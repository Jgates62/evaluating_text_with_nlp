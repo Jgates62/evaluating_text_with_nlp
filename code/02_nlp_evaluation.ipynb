{
 "cells": [
  {
   "cell_type": "code",
   "execution_count": 1,
   "id": "81cd4f65",
   "metadata": {},
   "outputs": [],
   "source": [
    "import pandas as pd\n",
    "import numpy as np\n",
    "import matplotlib.pyplot as plt\n",
    "import seaborn as sns\n",
    "\n",
    "from sklearn.linear_model import LogisticRegression\n",
    "from sklearn.pipeline import Pipeline\n",
    "from sklearn.feature_extraction.text import CountVectorizer, TfidfVectorizer\n",
    "from sklearn.model_selection import train_test_split, GridSearchCV\n",
    "from sklearn.metrics import plot_confusion_matrix\n",
    "from sklearn.preprocessing import FunctionTransformer\n",
    "from sklearn.ensemble import RandomForestClassifier"
   ]
  },
  {
   "cell_type": "code",
   "execution_count": 2,
   "id": "d942998c",
   "metadata": {},
   "outputs": [],
   "source": [
    "df = pd.read_csv('../data/reddit_posts.csv')"
   ]
  },
  {
   "cell_type": "code",
   "execution_count": 3,
   "id": "7e52069a",
   "metadata": {},
   "outputs": [
    {
     "data": {
      "text/html": [
       "<div>\n",
       "<style scoped>\n",
       "    .dataframe tbody tr th:only-of-type {\n",
       "        vertical-align: middle;\n",
       "    }\n",
       "\n",
       "    .dataframe tbody tr th {\n",
       "        vertical-align: top;\n",
       "    }\n",
       "\n",
       "    .dataframe thead th {\n",
       "        text-align: right;\n",
       "    }\n",
       "</style>\n",
       "<table border=\"1\" class=\"dataframe\">\n",
       "  <thead>\n",
       "    <tr style=\"text-align: right;\">\n",
       "      <th></th>\n",
       "      <th>subreddit</th>\n",
       "      <th>id:</th>\n",
       "      <th>title</th>\n",
       "      <th>selftext:</th>\n",
       "    </tr>\n",
       "  </thead>\n",
       "  <tbody>\n",
       "    <tr>\n",
       "      <th>0</th>\n",
       "      <td>MTB</td>\n",
       "      <td>g51oh2</td>\n",
       "      <td>Question About Suntour Aion 34</td>\n",
       "      <td>I just ordered this fork from CRC: https://www...</td>\n",
       "    </tr>\n",
       "    <tr>\n",
       "      <th>1</th>\n",
       "      <td>MTB</td>\n",
       "      <td>g512qr</td>\n",
       "      <td>Beginner needs advice for new wheels</td>\n",
       "      <td>A few years ago my mountain bike's wheels wher...</td>\n",
       "    </tr>\n",
       "    <tr>\n",
       "      <th>2</th>\n",
       "      <td>MTB</td>\n",
       "      <td>g50qzr</td>\n",
       "      <td>Second hand MTB: Scott Scale 80. Opinions needed</td>\n",
       "      <td>Looking to get into some light Mtbing as a fun...</td>\n",
       "    </tr>\n",
       "    <tr>\n",
       "      <th>3</th>\n",
       "      <td>MTB</td>\n",
       "      <td>g50b6w</td>\n",
       "      <td>Rear shock options for 2018 Stumpjumper?</td>\n",
       "      <td>I have this bike  [https://www.specialized.com...</td>\n",
       "    </tr>\n",
       "    <tr>\n",
       "      <th>4</th>\n",
       "      <td>MTB</td>\n",
       "      <td>g503j8</td>\n",
       "      <td>Anyone riding the Nero R or the Selva R? How i...</td>\n",
       "      <td>Thinking about buying the Nero R used as an up...</td>\n",
       "    </tr>\n",
       "  </tbody>\n",
       "</table>\n",
       "</div>"
      ],
      "text/plain": [
       "  subreddit    id:                                               title  \\\n",
       "0       MTB  g51oh2                     Question About Suntour Aion 34   \n",
       "1       MTB  g512qr               Beginner needs advice for new wheels   \n",
       "2       MTB  g50qzr   Second hand MTB: Scott Scale 80. Opinions needed   \n",
       "3       MTB  g50b6w           Rear shock options for 2018 Stumpjumper?   \n",
       "4       MTB  g503j8  Anyone riding the Nero R or the Selva R? How i...   \n",
       "\n",
       "                                          selftext:   \n",
       "0  I just ordered this fork from CRC: https://www...  \n",
       "1  A few years ago my mountain bike's wheels wher...  \n",
       "2  Looking to get into some light Mtbing as a fun...  \n",
       "3  I have this bike  [https://www.specialized.com...  \n",
       "4  Thinking about buying the Nero R used as an up...  "
      ]
     },
     "execution_count": 3,
     "metadata": {},
     "output_type": "execute_result"
    }
   ],
   "source": [
    "df.head()"
   ]
  },
  {
   "cell_type": "code",
   "execution_count": 4,
   "id": "ee5698cc",
   "metadata": {},
   "outputs": [],
   "source": [
    "# Clean up the title of the selftext column\n",
    "df.rename(columns= {'selftext: ': 'selftext'}, inplace= True)"
   ]
  },
  {
   "cell_type": "code",
   "execution_count": 5,
   "id": "ab38a1d2",
   "metadata": {},
   "outputs": [],
   "source": [
    "# binarize the target column\n",
    "df['bin_subreddit'] = df['subreddit'].map({'MTB':1 , 'gravelcycling': 0})"
   ]
  },
  {
   "cell_type": "code",
   "execution_count": 6,
   "id": "03a6ee55",
   "metadata": {},
   "outputs": [
    {
     "data": {
      "text/html": [
       "<div>\n",
       "<style scoped>\n",
       "    .dataframe tbody tr th:only-of-type {\n",
       "        vertical-align: middle;\n",
       "    }\n",
       "\n",
       "    .dataframe tbody tr th {\n",
       "        vertical-align: top;\n",
       "    }\n",
       "\n",
       "    .dataframe thead th {\n",
       "        text-align: right;\n",
       "    }\n",
       "</style>\n",
       "<table border=\"1\" class=\"dataframe\">\n",
       "  <thead>\n",
       "    <tr style=\"text-align: right;\">\n",
       "      <th></th>\n",
       "      <th>subreddit</th>\n",
       "      <th>id:</th>\n",
       "      <th>title</th>\n",
       "      <th>selftext</th>\n",
       "      <th>bin_subreddit</th>\n",
       "    </tr>\n",
       "  </thead>\n",
       "  <tbody>\n",
       "    <tr>\n",
       "      <th>0</th>\n",
       "      <td>MTB</td>\n",
       "      <td>g51oh2</td>\n",
       "      <td>Question About Suntour Aion 34</td>\n",
       "      <td>I just ordered this fork from CRC: https://www...</td>\n",
       "      <td>1</td>\n",
       "    </tr>\n",
       "    <tr>\n",
       "      <th>1</th>\n",
       "      <td>MTB</td>\n",
       "      <td>g512qr</td>\n",
       "      <td>Beginner needs advice for new wheels</td>\n",
       "      <td>A few years ago my mountain bike's wheels wher...</td>\n",
       "      <td>1</td>\n",
       "    </tr>\n",
       "    <tr>\n",
       "      <th>2</th>\n",
       "      <td>MTB</td>\n",
       "      <td>g50qzr</td>\n",
       "      <td>Second hand MTB: Scott Scale 80. Opinions needed</td>\n",
       "      <td>Looking to get into some light Mtbing as a fun...</td>\n",
       "      <td>1</td>\n",
       "    </tr>\n",
       "    <tr>\n",
       "      <th>3</th>\n",
       "      <td>MTB</td>\n",
       "      <td>g50b6w</td>\n",
       "      <td>Rear shock options for 2018 Stumpjumper?</td>\n",
       "      <td>I have this bike  [https://www.specialized.com...</td>\n",
       "      <td>1</td>\n",
       "    </tr>\n",
       "    <tr>\n",
       "      <th>4</th>\n",
       "      <td>MTB</td>\n",
       "      <td>g503j8</td>\n",
       "      <td>Anyone riding the Nero R or the Selva R? How i...</td>\n",
       "      <td>Thinking about buying the Nero R used as an up...</td>\n",
       "      <td>1</td>\n",
       "    </tr>\n",
       "  </tbody>\n",
       "</table>\n",
       "</div>"
      ],
      "text/plain": [
       "  subreddit    id:                                               title  \\\n",
       "0       MTB  g51oh2                     Question About Suntour Aion 34   \n",
       "1       MTB  g512qr               Beginner needs advice for new wheels   \n",
       "2       MTB  g50qzr   Second hand MTB: Scott Scale 80. Opinions needed   \n",
       "3       MTB  g50b6w           Rear shock options for 2018 Stumpjumper?   \n",
       "4       MTB  g503j8  Anyone riding the Nero R or the Selva R? How i...   \n",
       "\n",
       "                                            selftext  bin_subreddit  \n",
       "0  I just ordered this fork from CRC: https://www...              1  \n",
       "1  A few years ago my mountain bike's wheels wher...              1  \n",
       "2  Looking to get into some light Mtbing as a fun...              1  \n",
       "3  I have this bike  [https://www.specialized.com...              1  \n",
       "4  Thinking about buying the Nero R used as an up...              1  "
      ]
     },
     "execution_count": 6,
     "metadata": {},
     "output_type": "execute_result"
    }
   ],
   "source": [
    "df.head()"
   ]
  },
  {
   "cell_type": "code",
   "execution_count": 7,
   "id": "b65a0c46",
   "metadata": {},
   "outputs": [
    {
     "data": {
      "text/html": [
       "<div>\n",
       "<style scoped>\n",
       "    .dataframe tbody tr th:only-of-type {\n",
       "        vertical-align: middle;\n",
       "    }\n",
       "\n",
       "    .dataframe tbody tr th {\n",
       "        vertical-align: top;\n",
       "    }\n",
       "\n",
       "    .dataframe thead th {\n",
       "        text-align: right;\n",
       "    }\n",
       "</style>\n",
       "<table border=\"1\" class=\"dataframe\">\n",
       "  <thead>\n",
       "    <tr style=\"text-align: right;\">\n",
       "      <th></th>\n",
       "      <th>subreddit</th>\n",
       "      <th>id:</th>\n",
       "      <th>title</th>\n",
       "      <th>selftext</th>\n",
       "      <th>bin_subreddit</th>\n",
       "    </tr>\n",
       "  </thead>\n",
       "  <tbody>\n",
       "    <tr>\n",
       "      <th>1995</th>\n",
       "      <td>gravelcycling</td>\n",
       "      <td>arq37z</td>\n",
       "      <td>Wheel suggestions , nothing fancy</td>\n",
       "      <td>I’m looking to swap the wheels on my Specializ...</td>\n",
       "      <td>0</td>\n",
       "    </tr>\n",
       "    <tr>\n",
       "      <th>1996</th>\n",
       "      <td>gravelcycling</td>\n",
       "      <td>aqyhw2</td>\n",
       "      <td>Washington Gravel Grinders??</td>\n",
       "      <td>Any Washington (State) gravel riders on here? ...</td>\n",
       "      <td>0</td>\n",
       "    </tr>\n",
       "    <tr>\n",
       "      <th>1997</th>\n",
       "      <td>gravelcycling</td>\n",
       "      <td>aqqpr5</td>\n",
       "      <td>700c gravel tires on a Salsa Cuthroat - has an...</td>\n",
       "      <td>I have a Salsa Cuthroat that I will be using f...</td>\n",
       "      <td>0</td>\n",
       "    </tr>\n",
       "    <tr>\n",
       "      <th>1998</th>\n",
       "      <td>gravelcycling</td>\n",
       "      <td>aqqjj5</td>\n",
       "      <td>Specialized Sawtooth Tires</td>\n",
       "      <td>Hi Guys,\\n\\nSo I picked up a new Specialized D...</td>\n",
       "      <td>0</td>\n",
       "    </tr>\n",
       "    <tr>\n",
       "      <th>1999</th>\n",
       "      <td>gravelcycling</td>\n",
       "      <td>apxvqb</td>\n",
       "      <td>Di2 wires and battery</td>\n",
       "      <td>I’m putting together a 1x with Dura Ace levers...</td>\n",
       "      <td>0</td>\n",
       "    </tr>\n",
       "  </tbody>\n",
       "</table>\n",
       "</div>"
      ],
      "text/plain": [
       "          subreddit    id:   \\\n",
       "1995  gravelcycling  arq37z   \n",
       "1996  gravelcycling  aqyhw2   \n",
       "1997  gravelcycling  aqqpr5   \n",
       "1998  gravelcycling  aqqjj5   \n",
       "1999  gravelcycling  apxvqb   \n",
       "\n",
       "                                                  title  \\\n",
       "1995                  Wheel suggestions , nothing fancy   \n",
       "1996                       Washington Gravel Grinders??   \n",
       "1997  700c gravel tires on a Salsa Cuthroat - has an...   \n",
       "1998                         Specialized Sawtooth Tires   \n",
       "1999                              Di2 wires and battery   \n",
       "\n",
       "                                               selftext  bin_subreddit  \n",
       "1995  I’m looking to swap the wheels on my Specializ...              0  \n",
       "1996  Any Washington (State) gravel riders on here? ...              0  \n",
       "1997  I have a Salsa Cuthroat that I will be using f...              0  \n",
       "1998  Hi Guys,\\n\\nSo I picked up a new Specialized D...              0  \n",
       "1999  I’m putting together a 1x with Dura Ace levers...              0  "
      ]
     },
     "execution_count": 7,
     "metadata": {},
     "output_type": "execute_result"
    }
   ],
   "source": [
    "df.tail()"
   ]
  },
  {
   "cell_type": "markdown",
   "id": "cafe6dd8",
   "metadata": {},
   "source": [
    "## EDA"
   ]
  },
  {
   "cell_type": "markdown",
   "id": "5fd52cb1",
   "metadata": {},
   "source": [
    "### Vectorize the text"
   ]
  },
  {
   "cell_type": "code",
   "execution_count": 8,
   "id": "3cef66f9",
   "metadata": {},
   "outputs": [],
   "source": [
    "# Instantiate cvec\n",
    "cvec = CountVectorizer(stop_words= 'english')"
   ]
  },
  {
   "cell_type": "code",
   "execution_count": 9,
   "id": "c3a83a84",
   "metadata": {},
   "outputs": [],
   "source": [
    "# Fit\n",
    "cvec.fit(df['selftext']);"
   ]
  },
  {
   "cell_type": "code",
   "execution_count": 10,
   "id": "0963131a",
   "metadata": {},
   "outputs": [],
   "source": [
    "# Transform\n",
    "cvec_matrix = cvec.transform(df['selftext'])"
   ]
  },
  {
   "cell_type": "code",
   "execution_count": 11,
   "id": "ae3c3237",
   "metadata": {},
   "outputs": [
    {
     "name": "stderr",
     "output_type": "stream",
     "text": [
      "C:\\Users\\jgjga\\anaconda3\\envs\\tfkGPU\\lib\\site-packages\\sklearn\\utils\\deprecation.py:87: FutureWarning: Function get_feature_names is deprecated; get_feature_names is deprecated in 1.0 and will be removed in 1.2. Please use get_feature_names_out instead.\n",
      "  warnings.warn(msg, category=FutureWarning)\n"
     ]
    }
   ],
   "source": [
    "# Put the cvec_matrix into a dataframe\n",
    "cvec_df = pd.DataFrame(cvec_matrix.todense(), columns=cvec.get_feature_names())"
   ]
  },
  {
   "cell_type": "code",
   "execution_count": 12,
   "id": "3a9da50b",
   "metadata": {},
   "outputs": [
    {
     "data": {
      "text/html": [
       "<div>\n",
       "<style scoped>\n",
       "    .dataframe tbody tr th:only-of-type {\n",
       "        vertical-align: middle;\n",
       "    }\n",
       "\n",
       "    .dataframe tbody tr th {\n",
       "        vertical-align: top;\n",
       "    }\n",
       "\n",
       "    .dataframe thead th {\n",
       "        text-align: right;\n",
       "    }\n",
       "</style>\n",
       "<table border=\"1\" class=\"dataframe\">\n",
       "  <thead>\n",
       "    <tr style=\"text-align: right;\">\n",
       "      <th></th>\n",
       "      <th>00</th>\n",
       "      <th>000</th>\n",
       "      <th>0000000006173_rev_a_service_manual_2018</th>\n",
       "      <th>001</th>\n",
       "      <th>01</th>\n",
       "      <th>017</th>\n",
       "      <th>02</th>\n",
       "      <th>021</th>\n",
       "      <th>03</th>\n",
       "      <th>035</th>\n",
       "      <th>...</th>\n",
       "      <th>zippy</th>\n",
       "      <th>zm2qh57ni3t41</th>\n",
       "      <th>zone</th>\n",
       "      <th>zr</th>\n",
       "      <th>ztr</th>\n",
       "      <th>zwift</th>\n",
       "      <th>zxdoobcad7i</th>\n",
       "      <th>zxreuyn</th>\n",
       "      <th>zykz55v2gfo41</th>\n",
       "      <th>öhlins</th>\n",
       "    </tr>\n",
       "  </thead>\n",
       "  <tbody>\n",
       "    <tr>\n",
       "      <th>0</th>\n",
       "      <td>0</td>\n",
       "      <td>0</td>\n",
       "      <td>0</td>\n",
       "      <td>0</td>\n",
       "      <td>0</td>\n",
       "      <td>0</td>\n",
       "      <td>0</td>\n",
       "      <td>0</td>\n",
       "      <td>0</td>\n",
       "      <td>0</td>\n",
       "      <td>...</td>\n",
       "      <td>0</td>\n",
       "      <td>0</td>\n",
       "      <td>0</td>\n",
       "      <td>0</td>\n",
       "      <td>0</td>\n",
       "      <td>0</td>\n",
       "      <td>0</td>\n",
       "      <td>0</td>\n",
       "      <td>0</td>\n",
       "      <td>0</td>\n",
       "    </tr>\n",
       "    <tr>\n",
       "      <th>1</th>\n",
       "      <td>0</td>\n",
       "      <td>0</td>\n",
       "      <td>0</td>\n",
       "      <td>0</td>\n",
       "      <td>0</td>\n",
       "      <td>0</td>\n",
       "      <td>0</td>\n",
       "      <td>0</td>\n",
       "      <td>0</td>\n",
       "      <td>0</td>\n",
       "      <td>...</td>\n",
       "      <td>0</td>\n",
       "      <td>0</td>\n",
       "      <td>0</td>\n",
       "      <td>0</td>\n",
       "      <td>0</td>\n",
       "      <td>0</td>\n",
       "      <td>0</td>\n",
       "      <td>0</td>\n",
       "      <td>0</td>\n",
       "      <td>0</td>\n",
       "    </tr>\n",
       "  </tbody>\n",
       "</table>\n",
       "<p>2 rows × 11414 columns</p>\n",
       "</div>"
      ],
      "text/plain": [
       "   00  000  0000000006173_rev_a_service_manual_2018  001  01  017  02  021  \\\n",
       "0   0    0                                        0    0   0    0   0    0   \n",
       "1   0    0                                        0    0   0    0   0    0   \n",
       "\n",
       "   03  035  ...  zippy  zm2qh57ni3t41  zone  zr  ztr  zwift  zxdoobcad7i  \\\n",
       "0   0    0  ...      0              0     0   0    0      0            0   \n",
       "1   0    0  ...      0              0     0   0    0      0            0   \n",
       "\n",
       "   zxreuyn  zykz55v2gfo41  öhlins  \n",
       "0        0              0       0  \n",
       "1        0              0       0  \n",
       "\n",
       "[2 rows x 11414 columns]"
      ]
     },
     "execution_count": 12,
     "metadata": {},
     "output_type": "execute_result"
    }
   ],
   "source": [
    "cvec_df.head(2)"
   ]
  },
  {
   "cell_type": "markdown",
   "id": "143ae300",
   "metadata": {},
   "source": [
    "### Create a new dataframe with both the original data and the countvectorized text"
   ]
  },
  {
   "cell_type": "code",
   "execution_count": 13,
   "id": "6c8652d9",
   "metadata": {},
   "outputs": [],
   "source": [
    "# Create a new dataframe with both the original data and the countvectorized text\n",
    "orig_and_cvec_df = pd.concat([df, cvec_df], axis = 1)"
   ]
  },
  {
   "cell_type": "code",
   "execution_count": 14,
   "id": "6232157f",
   "metadata": {},
   "outputs": [
    {
     "data": {
      "text/html": [
       "<div>\n",
       "<style scoped>\n",
       "    .dataframe tbody tr th:only-of-type {\n",
       "        vertical-align: middle;\n",
       "    }\n",
       "\n",
       "    .dataframe tbody tr th {\n",
       "        vertical-align: top;\n",
       "    }\n",
       "\n",
       "    .dataframe thead th {\n",
       "        text-align: right;\n",
       "    }\n",
       "</style>\n",
       "<table border=\"1\" class=\"dataframe\">\n",
       "  <thead>\n",
       "    <tr style=\"text-align: right;\">\n",
       "      <th></th>\n",
       "      <th>subreddit</th>\n",
       "      <th>id:</th>\n",
       "      <th>title</th>\n",
       "      <th>selftext</th>\n",
       "      <th>bin_subreddit</th>\n",
       "      <th>00</th>\n",
       "      <th>000</th>\n",
       "      <th>0000000006173_rev_a_service_manual_2018</th>\n",
       "      <th>001</th>\n",
       "      <th>01</th>\n",
       "      <th>...</th>\n",
       "      <th>zippy</th>\n",
       "      <th>zm2qh57ni3t41</th>\n",
       "      <th>zone</th>\n",
       "      <th>zr</th>\n",
       "      <th>ztr</th>\n",
       "      <th>zwift</th>\n",
       "      <th>zxdoobcad7i</th>\n",
       "      <th>zxreuyn</th>\n",
       "      <th>zykz55v2gfo41</th>\n",
       "      <th>öhlins</th>\n",
       "    </tr>\n",
       "  </thead>\n",
       "  <tbody>\n",
       "    <tr>\n",
       "      <th>0</th>\n",
       "      <td>MTB</td>\n",
       "      <td>g51oh2</td>\n",
       "      <td>Question About Suntour Aion 34</td>\n",
       "      <td>I just ordered this fork from CRC: https://www...</td>\n",
       "      <td>1</td>\n",
       "      <td>0</td>\n",
       "      <td>0</td>\n",
       "      <td>0</td>\n",
       "      <td>0</td>\n",
       "      <td>0</td>\n",
       "      <td>...</td>\n",
       "      <td>0</td>\n",
       "      <td>0</td>\n",
       "      <td>0</td>\n",
       "      <td>0</td>\n",
       "      <td>0</td>\n",
       "      <td>0</td>\n",
       "      <td>0</td>\n",
       "      <td>0</td>\n",
       "      <td>0</td>\n",
       "      <td>0</td>\n",
       "    </tr>\n",
       "    <tr>\n",
       "      <th>1</th>\n",
       "      <td>MTB</td>\n",
       "      <td>g512qr</td>\n",
       "      <td>Beginner needs advice for new wheels</td>\n",
       "      <td>A few years ago my mountain bike's wheels wher...</td>\n",
       "      <td>1</td>\n",
       "      <td>0</td>\n",
       "      <td>0</td>\n",
       "      <td>0</td>\n",
       "      <td>0</td>\n",
       "      <td>0</td>\n",
       "      <td>...</td>\n",
       "      <td>0</td>\n",
       "      <td>0</td>\n",
       "      <td>0</td>\n",
       "      <td>0</td>\n",
       "      <td>0</td>\n",
       "      <td>0</td>\n",
       "      <td>0</td>\n",
       "      <td>0</td>\n",
       "      <td>0</td>\n",
       "      <td>0</td>\n",
       "    </tr>\n",
       "  </tbody>\n",
       "</table>\n",
       "<p>2 rows × 11419 columns</p>\n",
       "</div>"
      ],
      "text/plain": [
       "  subreddit    id:                                  title  \\\n",
       "0       MTB  g51oh2        Question About Suntour Aion 34   \n",
       "1       MTB  g512qr  Beginner needs advice for new wheels   \n",
       "\n",
       "                                            selftext  bin_subreddit  00  000  \\\n",
       "0  I just ordered this fork from CRC: https://www...              1   0    0   \n",
       "1  A few years ago my mountain bike's wheels wher...              1   0    0   \n",
       "\n",
       "   0000000006173_rev_a_service_manual_2018  001  01  ...  zippy  \\\n",
       "0                                        0    0   0  ...      0   \n",
       "1                                        0    0   0  ...      0   \n",
       "\n",
       "   zm2qh57ni3t41  zone  zr  ztr  zwift  zxdoobcad7i  zxreuyn  zykz55v2gfo41  \\\n",
       "0              0     0   0    0      0            0        0              0   \n",
       "1              0     0   0    0      0            0        0              0   \n",
       "\n",
       "   öhlins  \n",
       "0       0  \n",
       "1       0  \n",
       "\n",
       "[2 rows x 11419 columns]"
      ]
     },
     "execution_count": 14,
     "metadata": {},
     "output_type": "execute_result"
    }
   ],
   "source": [
    "orig_and_cvec_df.head(2)"
   ]
  },
  {
   "cell_type": "markdown",
   "id": "5293da3e",
   "metadata": {},
   "source": [
    "### Common Words"
   ]
  },
  {
   "cell_type": "code",
   "execution_count": 15,
   "id": "756b1cd3",
   "metadata": {},
   "outputs": [],
   "source": [
    "ignore_cols = ['subreddit', 'id: ', 'title', 'selftext', 'bin_subreddit']"
   ]
  },
  {
   "cell_type": "markdown",
   "id": "ba1f1824",
   "metadata": {},
   "source": [
    "#### 15 most common words in \"MTB\""
   ]
  },
  {
   "cell_type": "code",
   "execution_count": 16,
   "id": "5c5b9598",
   "metadata": {},
   "outputs": [
    {
     "data": {
      "image/png": "[encoded data removed]",
      "text/plain": [
       "<Figure size 432x288 with 1 Axes>"
      ]
     },
     "metadata": {},
     "output_type": "display_data"
    }
   ],
   "source": [
    "sns.set_style('darkgrid')\n",
    "\n",
    "orig_and_cvec_df[orig_and_cvec_df['bin_subreddit'] == 1].drop(columns = ignore_cols).sum().sort_values(\n",
    "    ascending= True).tail(15).plot(kind ='barh')\n",
    "\n",
    "plt.title('Most common \"MTB\" words');"
   ]
  },
  {
   "cell_type": "markdown",
   "id": "06ce581a",
   "metadata": {},
   "source": [
    "#### 15 most common words in \"gravelcycling\""
   ]
  },
  {
   "cell_type": "code",
   "execution_count": 17,
   "id": "150d233d",
   "metadata": {},
   "outputs": [
    {
     "data": {
      "image/png": "[encoded data removed]",
      "text/plain": [
       "<Figure size 432x288 with 1 Axes>"
      ]
     },
     "metadata": {},
     "output_type": "display_data"
    }
   ],
   "source": [
    "orig_and_cvec_df[orig_and_cvec_df['bin_subreddit'] == 0].drop(columns = ignore_cols).sum().sort_values(\n",
    "    ascending= True).tail(15).plot(kind ='barh')\n",
    "\n",
    "plt.title('Most common \"gravelcycling\" words');"
   ]
  },
  {
   "cell_type": "markdown",
   "id": "7f009574",
   "metadata": {},
   "source": [
    "#### Most frequent words comparison"
   ]
  },
  {
   "cell_type": "code",
   "execution_count": 18,
   "id": "dff3411d",
   "metadata": {},
   "outputs": [],
   "source": [
    "top_words_df = orig_and_cvec_df.groupby('bin_subreddit'\n",
    "                                       ).sum().T.sort_values(1, ascending=False).head(20).sort_values(1)"
   ]
  },
  {
   "cell_type": "code",
   "execution_count": 19,
   "id": "9278fcca-7ae9-4f5b-88d7-7d82b319810e",
   "metadata": {},
   "outputs": [
    {
     "data": {
      "text/html": [
       "<div>\n",
       "<style scoped>\n",
       "    .dataframe tbody tr th:only-of-type {\n",
       "        vertical-align: middle;\n",
       "    }\n",
       "\n",
       "    .dataframe tbody tr th {\n",
       "        vertical-align: top;\n",
       "    }\n",
       "\n",
       "    .dataframe thead th {\n",
       "        text-align: right;\n",
       "    }\n",
       "</style>\n",
       "<table border=\"1\" class=\"dataframe\">\n",
       "  <thead>\n",
       "    <tr style=\"text-align: right;\">\n",
       "      <th>bin_subreddit</th>\n",
       "      <th>0</th>\n",
       "      <th>1</th>\n",
       "    </tr>\n",
       "  </thead>\n",
       "  <tbody>\n",
       "    <tr>\n",
       "      <th>really</th>\n",
       "      <td>186</td>\n",
       "      <td>188</td>\n",
       "    </tr>\n",
       "    <tr>\n",
       "      <th>thanks</th>\n",
       "      <td>188</td>\n",
       "      <td>188</td>\n",
       "    </tr>\n",
       "    <tr>\n",
       "      <th>good</th>\n",
       "      <td>176</td>\n",
       "      <td>198</td>\n",
       "    </tr>\n",
       "    <tr>\n",
       "      <th>mountain</th>\n",
       "      <td>87</td>\n",
       "      <td>201</td>\n",
       "    </tr>\n",
       "    <tr>\n",
       "      <th>want</th>\n",
       "      <td>186</td>\n",
       "      <td>203</td>\n",
       "    </tr>\n",
       "    <tr>\n",
       "      <th>mtb</th>\n",
       "      <td>84</td>\n",
       "      <td>213</td>\n",
       "    </tr>\n",
       "    <tr>\n",
       "      <th>com</th>\n",
       "      <td>496</td>\n",
       "      <td>216</td>\n",
       "    </tr>\n",
       "    <tr>\n",
       "      <th>www</th>\n",
       "      <td>292</td>\n",
       "      <td>217</td>\n",
       "    </tr>\n",
       "    <tr>\n",
       "      <th>know</th>\n",
       "      <td>271</td>\n",
       "      <td>232</td>\n",
       "    </tr>\n",
       "    <tr>\n",
       "      <th>riding</th>\n",
       "      <td>257</td>\n",
       "      <td>266</td>\n",
       "    </tr>\n",
       "    <tr>\n",
       "      <th>bikes</th>\n",
       "      <td>372</td>\n",
       "      <td>277</td>\n",
       "    </tr>\n",
       "    <tr>\n",
       "      <th>amp</th>\n",
       "      <td>366</td>\n",
       "      <td>279</td>\n",
       "    </tr>\n",
       "    <tr>\n",
       "      <th>ride</th>\n",
       "      <td>379</td>\n",
       "      <td>287</td>\n",
       "    </tr>\n",
       "    <tr>\n",
       "      <th>ve</th>\n",
       "      <td>288</td>\n",
       "      <td>297</td>\n",
       "    </tr>\n",
       "    <tr>\n",
       "      <th>https</th>\n",
       "      <td>571</td>\n",
       "      <td>297</td>\n",
       "    </tr>\n",
       "    <tr>\n",
       "      <th>looking</th>\n",
       "      <td>332</td>\n",
       "      <td>315</td>\n",
       "    </tr>\n",
       "    <tr>\n",
       "      <th>new</th>\n",
       "      <td>406</td>\n",
       "      <td>323</td>\n",
       "    </tr>\n",
       "    <tr>\n",
       "      <th>like</th>\n",
       "      <td>388</td>\n",
       "      <td>385</td>\n",
       "    </tr>\n",
       "    <tr>\n",
       "      <th>just</th>\n",
       "      <td>339</td>\n",
       "      <td>436</td>\n",
       "    </tr>\n",
       "    <tr>\n",
       "      <th>bike</th>\n",
       "      <td>1007</td>\n",
       "      <td>987</td>\n",
       "    </tr>\n",
       "  </tbody>\n",
       "</table>\n",
       "</div>"
      ],
      "text/plain": [
       "bin_subreddit     0    1\n",
       "really          186  188\n",
       "thanks          188  188\n",
       "good            176  198\n",
       "mountain         87  201\n",
       "want            186  203\n",
       "mtb              84  213\n",
       "com             496  216\n",
       "www             292  217\n",
       "know            271  232\n",
       "riding          257  266\n",
       "bikes           372  277\n",
       "amp             366  279\n",
       "ride            379  287\n",
       "ve              288  297\n",
       "https           571  297\n",
       "looking         332  315\n",
       "new             406  323\n",
       "like            388  385\n",
       "just            339  436\n",
       "bike           1007  987"
      ]
     },
     "execution_count": 19,
     "metadata": {},
     "output_type": "execute_result"
    }
   ],
   "source": [
    "top_words_df"
   ]
  },
  {
   "cell_type": "code",
   "execution_count": 20,
   "id": "34a2a5cb",
   "metadata": {},
   "outputs": [
    {
     "data": {
      "image/png": "[encoded data removed]",
      "text/plain": [
       "<Figure size 864x576 with 1 Axes>"
      ]
     },
     "metadata": {},
     "output_type": "display_data"
    }
   ],
   "source": [
    "top_words_df.plot(kind='barh', figsize=(12, 8))\n",
    "\n",
    "plt.title('Most Frequent Words', fontsize = 20)\n",
    "\n",
    "plt.xlabel('Word Frequency', fontsize = 16)\n",
    "\n",
    "plt.legend(title = 'Subreddit:', labels = ['gravelcycling', 'MTB'], fontsize = 12)\n",
    "\n",
    "plt.yticks(fontsize = 16)\n",
    "\n",
    "plt.savefig('../data-visualizations/most_freq_words.png')"
   ]
  },
  {
   "cell_type": "markdown",
   "id": "669e4fb1",
   "metadata": {},
   "source": [
    "#### Show the top 50 most frequent words in order to build out a list of additional stopwords"
   ]
  },
  {
   "cell_type": "code",
   "execution_count": 21,
   "id": "89ddf23d",
   "metadata": {},
   "outputs": [
    {
     "data": {
      "image/png": "[encoded data removed]",
      "text/plain": [
       "<Figure size 864x864 with 1 Axes>"
      ]
     },
     "metadata": {},
     "output_type": "display_data"
    }
   ],
   "source": [
    "orig_and_cvec_df.groupby('bin_subreddit'\n",
    "                        ).sum().T.sort_values(1, ascending=False\n",
    "                                             ).head(50).sort_values(1).plot(kind='barh', figsize=(12, 12))\n",
    "\n",
    "plt.legend(title = 'Subreddit:', labels = ['gravelcycling', 'MTB'], fontsize = 10)\n",
    "plt.title('Top 50 most Frequent Words by subreddit', fontsize = 14);"
   ]
  },
  {
   "cell_type": "markdown",
   "id": "df53dd7b",
   "metadata": {},
   "source": [
    "The 'Top 50 most Frequent Words by subreddit' chart shows several common words that appear in both subreddits, but what if we want to get the words that are both common and appear a lot more in one subreddit than the other?"
   ]
  },
  {
   "cell_type": "code",
   "execution_count": 22,
   "id": "20bcb31c",
   "metadata": {},
   "outputs": [
    {
     "data": {
      "text/html": [
       "<div>\n",
       "<style scoped>\n",
       "    .dataframe tbody tr th:only-of-type {\n",
       "        vertical-align: middle;\n",
       "    }\n",
       "\n",
       "    .dataframe tbody tr th {\n",
       "        vertical-align: top;\n",
       "    }\n",
       "\n",
       "    .dataframe thead th {\n",
       "        text-align: right;\n",
       "    }\n",
       "</style>\n",
       "<table border=\"1\" class=\"dataframe\">\n",
       "  <thead>\n",
       "    <tr style=\"text-align: right;\">\n",
       "      <th>bin_subreddit</th>\n",
       "      <th>0</th>\n",
       "      <th>1</th>\n",
       "    </tr>\n",
       "  </thead>\n",
       "  <tbody>\n",
       "    <tr>\n",
       "      <th>00</th>\n",
       "      <td>2</td>\n",
       "      <td>4</td>\n",
       "    </tr>\n",
       "    <tr>\n",
       "      <th>000</th>\n",
       "      <td>6</td>\n",
       "      <td>5</td>\n",
       "    </tr>\n",
       "    <tr>\n",
       "      <th>0000000006173_rev_a_service_manual_2018</th>\n",
       "      <td>0</td>\n",
       "      <td>1</td>\n",
       "    </tr>\n",
       "    <tr>\n",
       "      <th>001</th>\n",
       "      <td>1</td>\n",
       "      <td>0</td>\n",
       "    </tr>\n",
       "    <tr>\n",
       "      <th>01</th>\n",
       "      <td>23</td>\n",
       "      <td>0</td>\n",
       "    </tr>\n",
       "    <tr>\n",
       "      <th>...</th>\n",
       "      <td>...</td>\n",
       "      <td>...</td>\n",
       "    </tr>\n",
       "    <tr>\n",
       "      <th>zwift</th>\n",
       "      <td>2</td>\n",
       "      <td>0</td>\n",
       "    </tr>\n",
       "    <tr>\n",
       "      <th>zxdoobcad7i</th>\n",
       "      <td>2</td>\n",
       "      <td>0</td>\n",
       "    </tr>\n",
       "    <tr>\n",
       "      <th>zxreuyn</th>\n",
       "      <td>1</td>\n",
       "      <td>0</td>\n",
       "    </tr>\n",
       "    <tr>\n",
       "      <th>zykz55v2gfo41</th>\n",
       "      <td>0</td>\n",
       "      <td>1</td>\n",
       "    </tr>\n",
       "    <tr>\n",
       "      <th>öhlins</th>\n",
       "      <td>0</td>\n",
       "      <td>3</td>\n",
       "    </tr>\n",
       "  </tbody>\n",
       "</table>\n",
       "<p>11414 rows × 2 columns</p>\n",
       "</div>"
      ],
      "text/plain": [
       "bin_subreddit                             0  1\n",
       "00                                        2  4\n",
       "000                                       6  5\n",
       "0000000006173_rev_a_service_manual_2018   0  1\n",
       "001                                       1  0\n",
       "01                                       23  0\n",
       "...                                      .. ..\n",
       "zwift                                     2  0\n",
       "zxdoobcad7i                               2  0\n",
       "zxreuyn                                   1  0\n",
       "zykz55v2gfo41                             0  1\n",
       "öhlins                                    0  3\n",
       "\n",
       "[11414 rows x 2 columns]"
      ]
     },
     "execution_count": 22,
     "metadata": {},
     "output_type": "execute_result"
    }
   ],
   "source": [
    "# Create a new dataframe that will hold the word frequencies for each subreddit\n",
    "\n",
    "diff_df = pd.DataFrame(orig_and_cvec_df.groupby('bin_subreddit').sum().T)\n",
    "\n",
    "diff_df"
   ]
  },
  {
   "cell_type": "code",
   "execution_count": 23,
   "id": "53c8910d",
   "metadata": {},
   "outputs": [],
   "source": [
    "# Create the largest_diffs dataframe - this will take the difference between subreddits for a given word. \n",
    "# Eg. Words that occur more in 'MTB' than 'gravelcycling' will be positive numbers, and the inverse\n",
    "# will be negative numbers. Then set the largest_diffs dataframe equal to the 15 largest and smallest numbers.\n",
    "\n",
    "largest_diffs = (diff_df.iloc[:][1] - diff_df.iloc[:][0]).sort_values(ascending = False).head(15)\n",
    "largest_diffs = largest_diffs.append((diff_df.iloc[:][1] - diff_df.iloc[:][0]\n",
    "                                           ).sort_values(ascending = False).tail(15))"
   ]
  },
  {
   "cell_type": "code",
   "execution_count": 24,
   "id": "c4c0daa1",
   "metadata": {},
   "outputs": [
    {
     "data": {
      "text/html": [
       "<div>\n",
       "<style scoped>\n",
       "    .dataframe tbody tr th:only-of-type {\n",
       "        vertical-align: middle;\n",
       "    }\n",
       "\n",
       "    .dataframe tbody tr th {\n",
       "        vertical-align: top;\n",
       "    }\n",
       "\n",
       "    .dataframe thead th {\n",
       "        text-align: right;\n",
       "    }\n",
       "</style>\n",
       "<table border=\"1\" class=\"dataframe\">\n",
       "  <thead>\n",
       "    <tr style=\"text-align: right;\">\n",
       "      <th></th>\n",
       "      <th>Frequency</th>\n",
       "      <th>0</th>\n",
       "    </tr>\n",
       "  </thead>\n",
       "  <tbody>\n",
       "    <tr>\n",
       "      <th>0</th>\n",
       "      <td>trail</td>\n",
       "      <td>141</td>\n",
       "    </tr>\n",
       "    <tr>\n",
       "      <th>1</th>\n",
       "      <td>mtb</td>\n",
       "      <td>129</td>\n",
       "    </tr>\n",
       "    <tr>\n",
       "      <th>2</th>\n",
       "      <td>trails</td>\n",
       "      <td>119</td>\n",
       "    </tr>\n",
       "    <tr>\n",
       "      <th>3</th>\n",
       "      <td>mountain</td>\n",
       "      <td>114</td>\n",
       "    </tr>\n",
       "    <tr>\n",
       "      <th>4</th>\n",
       "      <td>just</td>\n",
       "      <td>97</td>\n",
       "    </tr>\n",
       "    <tr>\n",
       "      <th>5</th>\n",
       "      <td>suspension</td>\n",
       "      <td>90</td>\n",
       "    </tr>\n",
       "    <tr>\n",
       "      <th>6</th>\n",
       "      <td>shock</td>\n",
       "      <td>89</td>\n",
       "    </tr>\n",
       "    <tr>\n",
       "      <th>7</th>\n",
       "      <td>27</td>\n",
       "      <td>83</td>\n",
       "    </tr>\n",
       "    <tr>\n",
       "      <th>8</th>\n",
       "      <td>29</td>\n",
       "      <td>83</td>\n",
       "    </tr>\n",
       "    <tr>\n",
       "      <th>9</th>\n",
       "      <td>fox</td>\n",
       "      <td>77</td>\n",
       "    </tr>\n",
       "    <tr>\n",
       "      <th>10</th>\n",
       "      <td>air</td>\n",
       "      <td>73</td>\n",
       "    </tr>\n",
       "    <tr>\n",
       "      <th>11</th>\n",
       "      <td>travel</td>\n",
       "      <td>68</td>\n",
       "    </tr>\n",
       "    <tr>\n",
       "      <th>12</th>\n",
       "      <td>rear</td>\n",
       "      <td>67</td>\n",
       "    </tr>\n",
       "    <tr>\n",
       "      <th>13</th>\n",
       "      <td>buy</td>\n",
       "      <td>59</td>\n",
       "    </tr>\n",
       "    <tr>\n",
       "      <th>14</th>\n",
       "      <td>post</td>\n",
       "      <td>59</td>\n",
       "    </tr>\n",
       "    <tr>\n",
       "      <th>15</th>\n",
       "      <td>ride</td>\n",
       "      <td>-92</td>\n",
       "    </tr>\n",
       "    <tr>\n",
       "      <th>16</th>\n",
       "      <td>use</td>\n",
       "      <td>-92</td>\n",
       "    </tr>\n",
       "    <tr>\n",
       "      <th>17</th>\n",
       "      <td>bikes</td>\n",
       "      <td>-95</td>\n",
       "    </tr>\n",
       "    <tr>\n",
       "      <th>18</th>\n",
       "      <td>tire</td>\n",
       "      <td>-96</td>\n",
       "    </tr>\n",
       "    <tr>\n",
       "      <th>19</th>\n",
       "      <td>event</td>\n",
       "      <td>-98</td>\n",
       "    </tr>\n",
       "    <tr>\n",
       "      <th>20</th>\n",
       "      <td>650b</td>\n",
       "      <td>-102</td>\n",
       "    </tr>\n",
       "    <tr>\n",
       "      <th>21</th>\n",
       "      <td>need</td>\n",
       "      <td>-102</td>\n",
       "    </tr>\n",
       "    <tr>\n",
       "      <th>22</th>\n",
       "      <td>cycling</td>\n",
       "      <td>-107</td>\n",
       "    </tr>\n",
       "    <tr>\n",
       "      <th>23</th>\n",
       "      <td>105</td>\n",
       "      <td>-115</td>\n",
       "    </tr>\n",
       "    <tr>\n",
       "      <th>24</th>\n",
       "      <td>rides</td>\n",
       "      <td>-118</td>\n",
       "    </tr>\n",
       "    <tr>\n",
       "      <th>25</th>\n",
       "      <td>tires</td>\n",
       "      <td>-178</td>\n",
       "    </tr>\n",
       "    <tr>\n",
       "      <th>26</th>\n",
       "      <td>https</td>\n",
       "      <td>-274</td>\n",
       "    </tr>\n",
       "    <tr>\n",
       "      <th>27</th>\n",
       "      <td>com</td>\n",
       "      <td>-280</td>\n",
       "    </tr>\n",
       "    <tr>\n",
       "      <th>28</th>\n",
       "      <td>road</td>\n",
       "      <td>-415</td>\n",
       "    </tr>\n",
       "    <tr>\n",
       "      <th>29</th>\n",
       "      <td>gravel</td>\n",
       "      <td>-1085</td>\n",
       "    </tr>\n",
       "  </tbody>\n",
       "</table>\n",
       "</div>"
      ],
      "text/plain": [
       "     Frequency     0\n",
       "0        trail   141\n",
       "1          mtb   129\n",
       "2       trails   119\n",
       "3     mountain   114\n",
       "4         just    97\n",
       "5   suspension    90\n",
       "6        shock    89\n",
       "7           27    83\n",
       "8           29    83\n",
       "9          fox    77\n",
       "10         air    73\n",
       "11      travel    68\n",
       "12        rear    67\n",
       "13         buy    59\n",
       "14        post    59\n",
       "15        ride   -92\n",
       "16         use   -92\n",
       "17       bikes   -95\n",
       "18        tire   -96\n",
       "19       event   -98\n",
       "20        650b  -102\n",
       "21        need  -102\n",
       "22     cycling  -107\n",
       "23         105  -115\n",
       "24       rides  -118\n",
       "25       tires  -178\n",
       "26       https  -274\n",
       "27         com  -280\n",
       "28        road  -415\n",
       "29      gravel -1085"
      ]
     },
     "execution_count": 24,
     "metadata": {},
     "output_type": "execute_result"
    }
   ],
   "source": [
    "largest_diffs_df = largest_diffs.to_frame().reset_index()\n",
    "\n",
    "largest_diffs_df.rename(columns= {'index': 'Frequency'}, inplace= True)\n",
    "\n",
    "largest_diffs_df"
   ]
  },
  {
   "cell_type": "code",
   "execution_count": 25,
   "id": "992063e3",
   "metadata": {},
   "outputs": [
    {
     "data": {
      "image/png": "[encoded data removed]",
      "text/plain": [
       "<Figure size 864x576 with 1 Axes>"
      ]
     },
     "metadata": {},
     "output_type": "display_data"
    }
   ],
   "source": [
    "# Plot the largest_diffs dataframe\n",
    "\n",
    "plt.figure(figsize = (12, 8))\n",
    "\n",
    "sns.barplot(x=0, y= \"Frequency\" , data= largest_diffs_df, palette= 'copper')\n",
    "\n",
    "plt.title('Largest Word Frequency Differences', fontsize = 20)\n",
    "plt.xlabel('Difference in Word Frequency', fontsize = 16)\n",
    "plt.ylabel('')\n",
    "plt.yticks(fontsize = 14);\n",
    "\n",
    "plt.savefig('../data-visualizations/largest_word_freq_diffs.png')"
   ]
  },
  {
   "cell_type": "markdown",
   "id": "0c4c6f6c",
   "metadata": {},
   "source": [
    "Now create a list of additional stopwords that appear a lot more in one subreddit than the other, but obviously have no actual relation to the topic of that particular subreddit. Eg. words like 'www' and 'bikes' which could easily appear in either subreddit."
   ]
  },
  {
   "cell_type": "code",
   "execution_count": 26,
   "id": "2c1b62ee",
   "metadata": {},
   "outputs": [],
   "source": [
    "from sklearn.feature_extraction import text \n",
    "\n",
    "exclude_words = ['www', 'com', 'new', 'https', 'ride', 'amp', 'bikes', \n",
    "                 'know', 'got', 'time', 'does', 'buy', '2020', 'x200b',\n",
    "                 'race', 'event']\n",
    "\n",
    "# Add the custom stopwords from 'exclude_words' to the original list of 'english' stopwords\n",
    "cust_stop_words = text.ENGLISH_STOP_WORDS.union(exclude_words)"
   ]
  },
  {
   "cell_type": "markdown",
   "id": "07deef8f",
   "metadata": {},
   "source": [
    "#### These are the stopwords that were tested, and the impact that they had on the performance of the Logistic Regression TF-IDF model (scores shown below in the modeling section) <br>"
   ]
  },
  {
   "cell_type": "code",
   "execution_count": 27,
   "id": "be0fbb74",
   "metadata": {},
   "outputs": [],
   "source": [
    "# Worse: 'just', 'need','rear', 'guys', 'use', 'rides', 'road'\n",
    "# Same (included): 'new', 'know', 'got', 'time', 'does', 'buy', '2020', 'race', 'event'\n",
    "# Better: 'www', 'com', 'https', 'ride', 'amp', 'bikes', 'x200b'"
   ]
  },
  {
   "cell_type": "markdown",
   "id": "528f4509",
   "metadata": {},
   "source": [
    "## Baseline Accuracy"
   ]
  },
  {
   "cell_type": "code",
   "execution_count": 28,
   "id": "897a7c15",
   "metadata": {},
   "outputs": [
    {
     "data": {
      "text/plain": [
       "1    0.5\n",
       "0    0.5\n",
       "Name: bin_subreddit, dtype: float64"
      ]
     },
     "execution_count": 28,
     "metadata": {},
     "output_type": "execute_result"
    }
   ],
   "source": [
    "# The baseline accuracy is 50% if we predict 0 (gravelcycling) for everything\n",
    "df['bin_subreddit'].value_counts(normalize= True) "
   ]
  },
  {
   "cell_type": "markdown",
   "id": "b76a3dab",
   "metadata": {},
   "source": [
    "## Modeling"
   ]
  },
  {
   "cell_type": "code",
   "execution_count": 29,
   "id": "86306817",
   "metadata": {},
   "outputs": [],
   "source": [
    "# Get X and y\n",
    "X = df['selftext']\n",
    "y = df['bin_subreddit']"
   ]
  },
  {
   "cell_type": "code",
   "execution_count": 30,
   "id": "8cbc6f5c",
   "metadata": {},
   "outputs": [],
   "source": [
    "# Train test split\n",
    "X_train, X_test, y_train, y_test = train_test_split(X, y, random_state= 42)"
   ]
  },
  {
   "cell_type": "markdown",
   "id": "c466b9be",
   "metadata": {},
   "source": [
    "### Logistic Regression with TF-IDF"
   ]
  },
  {
   "cell_type": "code",
   "execution_count": 31,
   "id": "0878c6ce",
   "metadata": {},
   "outputs": [],
   "source": [
    "# Set up a pipeline with tf-idf vectorizer\n",
    "\n",
    "logreg_pipe_tvec = Pipeline([\n",
    "    ('tvec', TfidfVectorizer()),\n",
    "    ('model', LogisticRegression())\n",
    "])"
   ]
  },
  {
   "cell_type": "code",
   "execution_count": 32,
   "id": "95bcab25",
   "metadata": {},
   "outputs": [],
   "source": [
    "eng_params = {\n",
    "    'tvec__stop_words': ['english'],\n",
    "    'model__C': [.65, .7, .75],\n",
    "    'model__max_iter': [50, 75, 100]\n",
    "}\n",
    "\n",
    "cust_params = {\n",
    "    'tvec__stop_words': [cust_stop_words],\n",
    "    'model__C': [.65, .7, .75],\n",
    "    'model__max_iter': [50, 75, 100]\n",
    "}"
   ]
  },
  {
   "cell_type": "code",
   "execution_count": 33,
   "id": "45778dc0",
   "metadata": {},
   "outputs": [],
   "source": [
    "# Instantiate GridSearchCV twice in order to compare the results of the basic 'english'\n",
    "# stopwords and the custom stopwords list\n",
    "\n",
    "# Using the basic 'english' stopwords\n",
    "logreg_gs_tvec_eng = GridSearchCV(logreg_pipe_tvec,\n",
    "                        param_grid = eng_params,\n",
    "                        cv=5)\n",
    "\n",
    "# Using the custom stopwords list\n",
    "logreg_gs_tvec_cust = GridSearchCV(logreg_pipe_tvec,\n",
    "                        param_grid = cust_params,\n",
    "                        cv=5)"
   ]
  },
  {
   "cell_type": "code",
   "execution_count": 34,
   "id": "ca7a9026",
   "metadata": {
    "scrolled": true
   },
   "outputs": [
    {
     "name": "stdout",
     "output_type": "stream",
     "text": [
      "Best params with \"english\" stopwords: {'model__C': 0.75, 'model__max_iter': 50, 'tvec__stop_words': 'english'}\n",
      "Best params with custom stopwords: {'model__C': 0.7, 'model__max_iter': 50, 'tvec__stop_words': frozenset({'whenever', 'whence', 'everywhere', 'eight', 'com', 'everything', 'done', 'below', 'behind', 'do', 'nine', 'thereby', 'thus', 'by', 'sixty', 'ever', 'keep', 'him', 'somewhere', 'get', 'be', 'several', 'www', 'on', 'most', 'being', 'third', 'bill', 'seems', 'eg', 'between', 'been', 'elsewhere', 'among', 'our', 'seemed', 'further', 'whom', 'describe', 'their', 'beyond', 'etc', 'had', 'amount', 'may', 'ten', 'whereas', 'hence', 'time', 'often', 'hers', 'one', 'must', 'because', 'anyone', 'upon', 'from', 'namely', 'should', 'whereafter', 'well', 'anywhere', 'hereafter', 'but', 'me', 'too', 'four', 'twenty', 'yourselves', 'while', 'through', 'indeed', 'over', 'these', 'cant', 'top', 'afterwards', 'fifteen', 'beside', 'none', 'three', 'does', 'un', 'whereby', 'two', 'cannot', 'take', 'new', 'itself', 'con', 'the', 'see', 'latterly', 'every', 'except', 'any', 'forty', 'never', 'since', 'for', 'otherwise', 'same', 'found', 'my', 'have', 'within', 'seem', 'own', 'co', 'thereafter', 'sincere', 'could', 'interest', 'them', 'hereupon', 'nowhere', 'everyone', 'others', 'fire', 'other', 'was', 'only', 'already', 'ours', 'once', 'it', 'eleven', 'call', 're', 'who', 'those', 'latter', 'nevertheless', 'up', 'due', 'i', 'give', 'where', 'more', 'his', 'is', 'mine', 'fifty', 'full', 'myself', 'meanwhile', 'he', 'toward', 'its', 'why', 'each', 'inc', 'thick', 'to', 'are', 'ride', 'until', 'hundred', 'such', 'of', 'into', 'former', 'anyhow', 'formerly', 'system', 'with', 'anything', 'amongst', 'hereby', 'besides', 'would', 'your', 'neither', 'her', 'whether', 'hasnt', '2020', 'put', 'beforehand', 'somehow', 'towards', 'wherein', 'got', 'five', 'a', 'sometimes', 'front', 'whereupon', 'anyway', 'know', 'something', 'whoever', 'onto', 'moreover', 'then', 'go', 'am', 'therefore', 'thin', 'all', 'than', 'even', 'will', 'buy', 'cry', 'next', 'above', 'how', 'what', 'thereupon', 'made', 'whither', 'which', 'side', 'else', 'serious', 'yours', 'sometime', 'enough', 'de', 'nothing', 'also', 'ourselves', 'herein', 'last', 'however', 'please', 'another', 'against', 'before', 'you', 'perhaps', 'whole', 'herself', 'becomes', 'show', 'back', 'alone', 'so', 'we', 'nobody', 'someone', 'thence', 'detail', 'himself', 'find', 'around', 'less', 'both', 'few', 'event', 'much', 'not', 'thru', 'move', 'some', 'that', 'when', 'us', 'always', 'though', 'about', 'again', 'whose', 'along', 'themselves', 'six', 'without', 'can', 'became', 'yet', 'yourself', 'therein', 'twelve', 'under', 'part', 'bottom', 'here', 'per', 'although', 'via', 'an', 'this', 'mill', 'at', 'together', 'seeming', 'as', 'first', 'mostly', 'x200b', 'noone', 'fill', 'out', 'almost', 'down', 'off', 'still', 'and', 'were', 'she', 'amp', 'no', 'become', 'name', 'empty', 'wherever', 'they', 'ltd', 'might', 'across', 'least', 'or', 'in', 'during', 'throughout', 'bikes', 'nor', 'ie', 'rather', 'becoming', 'either', 'amoungst', 'has', 'race', 'now', 'there', 'very', 'after', 'whatever', 'many', 'if', 'couldnt', 'https'})}\n"
     ]
    }
   ],
   "source": [
    "# Fit GridSearch to training data and get best parameters\n",
    "logreg_gs_tvec_eng.fit(X_train, y_train)\n",
    "logreg_gs_tvec_cust.fit(X_train, y_train);\n",
    "\n",
    "print(f'Best params with \"english\" stopwords: {logreg_gs_tvec_eng.best_params_}')\n",
    "print(f'Best params with custom stopwords: {logreg_gs_tvec_cust.best_params_}')"
   ]
  },
  {
   "cell_type": "code",
   "execution_count": 35,
   "id": "c9c35138",
   "metadata": {},
   "outputs": [
    {
     "name": "stdout",
     "output_type": "stream",
     "text": [
      "ENG uses the basic \"english\" stopwords list, while Cust uses the same \"english\" stopwords plus the ones\n",
      "that were defined manually in the code blocks above. \n",
      "\n",
      "ENG Train:  0.9706666666666667\n",
      "ENG Test:  0.866\n",
      "\n",
      "\n",
      "Cust Train:  0.9713333333333334\n",
      "Cust Test:  0.88\n"
     ]
    }
   ],
   "source": [
    "# Model scores\n",
    "print('ENG uses the basic \"english\" stopwords list, while Cust uses the same \"english\" stopwords plus the ones')\n",
    "print('that were defined manually in the code blocks above. \\n')\n",
    "\n",
    "print('ENG Train: ', logreg_gs_tvec_eng.score(X_train, y_train))\n",
    "print('ENG Test: ', logreg_gs_tvec_eng.score(X_test, y_test))\n",
    "print('\\n')\n",
    "\n",
    "print('Cust Train: ', logreg_gs_tvec_cust.score(X_train, y_train))\n",
    "print('Cust Test: ', logreg_gs_tvec_cust.score(X_test, y_test))"
   ]
  },
  {
   "cell_type": "markdown",
   "id": "ec8e6476",
   "metadata": {},
   "source": [
    "#### Since the custom stopwords list seems to improve the performance of the model on both train and test data, we will use it as the default stopwords list from this point on."
   ]
  },
  {
   "cell_type": "code",
   "execution_count": 36,
   "id": "2fa9540f",
   "metadata": {},
   "outputs": [
    {
     "name": "stderr",
     "output_type": "stream",
     "text": [
      "C:\\Users\\jgjga\\anaconda3\\envs\\tfkGPU\\lib\\site-packages\\sklearn\\utils\\deprecation.py:87: FutureWarning: Function plot_confusion_matrix is deprecated; Function `plot_confusion_matrix` is deprecated in 1.0 and will be removed in 1.2. Use one of the class methods: ConfusionMatrixDisplay.from_predictions or ConfusionMatrixDisplay.from_estimator.\n",
      "  warnings.warn(msg, category=FutureWarning)\n"
     ]
    },
    {
     "data": {
      "image/png": "[encoded data removed]",
      "text/plain": [
       "<Figure size 432x288 with 2 Axes>"
      ]
     },
     "metadata": {},
     "output_type": "display_data"
    }
   ],
   "source": [
    "# Show the results from the Logistic Regression TF-IDF model on a confusion matrix\n",
    "\n",
    "sns.set_style('white')\n",
    "\n",
    "plt.figsize = (10, 10)\n",
    "\n",
    "plot_confusion_matrix(logreg_gs_tvec_cust, X_test, y_test, display_labels = ['gravelcycling', 'MTB'], cmap = 'copper')\n",
    "\n",
    "plt.title('Logistic Regression with TF-IDF', fontsize = 14)\n",
    "plt.xlabel('Predicted', fontsize = 12)\n",
    "plt.xticks(fontsize = 12)\n",
    "\n",
    "plt.ylabel('Actual', fontsize = 12)\n",
    "plt.yticks(fontsize = 12)\n",
    "\n",
    "plt.savefig('../data-visualizations/logreg_tfidf.png');"
   ]
  },
  {
   "cell_type": "code",
   "execution_count": 37,
   "id": "e4aadf41",
   "metadata": {},
   "outputs": [],
   "source": [
    "logreg_tvec_gs_preds = logreg_gs_tvec_cust.predict(X_test)"
   ]
  },
  {
   "cell_type": "markdown",
   "id": "beec2334",
   "metadata": {},
   "source": [
    "### Logistic Regression with CountVectorizer"
   ]
  },
  {
   "cell_type": "code",
   "execution_count": 38,
   "id": "983644aa",
   "metadata": {},
   "outputs": [],
   "source": [
    "logreg_pipe_cvec = Pipeline([\n",
    "    ('cvec', CountVectorizer()),\n",
    "    ('model', LogisticRegression())\n",
    "])"
   ]
  },
  {
   "cell_type": "code",
   "execution_count": 39,
   "id": "94c1a494",
   "metadata": {},
   "outputs": [],
   "source": [
    "logreg_pipe_cvec_params = {\n",
    "    'cvec__stop_words': [cust_stop_words],\n",
    "    'cvec__ngram_range': [(1, 1), (1, 2)],\n",
    "    'cvec__min_df': [ 4, 5, 6 ],\n",
    "    'model__C': [.6, .65, .7],\n",
    "    'model__max_iter': [75, 100, 125]\n",
    "}"
   ]
  },
  {
   "cell_type": "code",
   "execution_count": 40,
   "id": "7a098d6f",
   "metadata": {},
   "outputs": [
    {
     "data": {
      "text/plain": [
       "GridSearchCV(estimator=Pipeline(steps=[('cvec', CountVectorizer()),\n",
       "                                       ('model', LogisticRegression())]),\n",
       "             param_grid={'cvec__min_df': [4, 5, 6],\n",
       "                         'cvec__ngram_range': [(1, 1), (1, 2)],\n",
       "                         'cvec__stop_words': [frozenset({'2020', 'a', 'about',\n",
       "                                                         'above', 'across',\n",
       "                                                         'after', 'afterwards',\n",
       "                                                         'again', 'against',\n",
       "                                                         'all', 'almost',\n",
       "                                                         'alone', 'along',\n",
       "                                                         'already', 'also',\n",
       "                                                         'although', 'always',\n",
       "                                                         'am', 'among',\n",
       "                                                         'amongst', 'amoungst',\n",
       "                                                         'amount', 'amp', 'an',\n",
       "                                                         'and', 'another',\n",
       "                                                         'any', 'anyhow',\n",
       "                                                         'anyone', 'anything', ...})],\n",
       "                         'model__C': [0.6, 0.65, 0.7],\n",
       "                         'model__max_iter': [75, 100, 125]})"
      ]
     },
     "execution_count": 40,
     "metadata": {},
     "output_type": "execute_result"
    }
   ],
   "source": [
    "# instantiate and fit\n",
    "logreg_gs_cvec = GridSearchCV(logreg_pipe_cvec, param_grid = logreg_pipe_cvec_params)\n",
    "\n",
    "logreg_gs_cvec.fit(X_train, y_train)"
   ]
  },
  {
   "cell_type": "code",
   "execution_count": 41,
   "id": "d574a02d",
   "metadata": {},
   "outputs": [
    {
     "name": "stdout",
     "output_type": "stream",
     "text": [
      "Train:  0.9933333333333333\n",
      "Test:  0.876\n"
     ]
    }
   ],
   "source": [
    "# Logistic Regression with CVEC model scores\n",
    "print('Train: ', logreg_gs_cvec.score(X_train, y_train))\n",
    "print('Test: ', logreg_gs_cvec.score(X_test, y_test))"
   ]
  },
  {
   "cell_type": "code",
   "execution_count": 42,
   "id": "7c2e98a3",
   "metadata": {},
   "outputs": [
    {
     "name": "stderr",
     "output_type": "stream",
     "text": [
      "C:\\Users\\jgjga\\anaconda3\\envs\\tfkGPU\\lib\\site-packages\\sklearn\\utils\\deprecation.py:87: FutureWarning: Function plot_confusion_matrix is deprecated; Function `plot_confusion_matrix` is deprecated in 1.0 and will be removed in 1.2. Use one of the class methods: ConfusionMatrixDisplay.from_predictions or ConfusionMatrixDisplay.from_estimator.\n",
      "  warnings.warn(msg, category=FutureWarning)\n"
     ]
    },
    {
     "data": {
      "image/png": "[encoded data removed]",
      "text/plain": [
       "<Figure size 432x288 with 2 Axes>"
      ]
     },
     "metadata": {},
     "output_type": "display_data"
    }
   ],
   "source": [
    "# Plot the Logistic Regression with CVEC model with a confusion matrix\n",
    "\n",
    "plot_confusion_matrix(logreg_gs_cvec, X_test, y_test, display_labels = ['gravelcycling', 'MTB'], cmap = 'copper')\n",
    "\n",
    "plt.title('Logistic Regression with CVEC', fontsize = 14)\n",
    "plt.xlabel('Predicted', fontsize = 12)\n",
    "plt.xticks(fontsize = 12)\n",
    "\n",
    "plt.ylabel('Actual', fontsize = 12)\n",
    "plt.yticks(fontsize = 12);\n",
    "\n",
    "plt.savefig('../data-visualizations/logreg_cvec.png')"
   ]
  },
  {
   "cell_type": "code",
   "execution_count": 43,
   "id": "2a4e2d6d",
   "metadata": {},
   "outputs": [],
   "source": [
    "logreg_cvec_gs_preds = logreg_gs_cvec.predict(X_test)"
   ]
  },
  {
   "cell_type": "markdown",
   "id": "d5b2c631",
   "metadata": {},
   "source": [
    "### Random Forest with CVEC"
   ]
  },
  {
   "cell_type": "code",
   "execution_count": 44,
   "id": "433e5e99",
   "metadata": {},
   "outputs": [],
   "source": [
    "rf_pipe_cvec = Pipeline([\n",
    "    ('cvec', CountVectorizer()),\n",
    "    ('model', RandomForestClassifier())\n",
    "])"
   ]
  },
  {
   "cell_type": "code",
   "execution_count": 45,
   "id": "e927b383",
   "metadata": {},
   "outputs": [],
   "source": [
    "rf_pipe_params_cvec = {\n",
    "    'cvec__stop_words': [cust_stop_words],\n",
    "     'cvec__ngram_range': [(1, 1), (1, 2)],\n",
    "     'cvec__min_df': [4, 5],\n",
    "     'cvec__max_df': [.4, .45, .5],\n",
    "     'model__max_depth': [7, 8],\n",
    "     'model__n_estimators': [50, 75, 100]\n",
    "}"
   ]
  },
  {
   "cell_type": "code",
   "execution_count": 46,
   "id": "e7afe349",
   "metadata": {},
   "outputs": [],
   "source": [
    "# Instantiate and fit\n",
    "rf_gs_cvec = GridSearchCV(rf_pipe_cvec, param_grid= rf_pipe_params_cvec)\n",
    "\n",
    "rf_gs_cvec.fit(X_train, y_train);"
   ]
  },
  {
   "cell_type": "code",
   "execution_count": 47,
   "id": "fb408fa3",
   "metadata": {},
   "outputs": [
    {
     "name": "stdout",
     "output_type": "stream",
     "text": [
      "Train:  0.868\n",
      "Test:  0.85\n"
     ]
    }
   ],
   "source": [
    "# Random Forest with CVEC model scores\n",
    "print('Train: ', rf_gs_cvec.score(X_train, y_train))\n",
    "print('Test: ', rf_gs_cvec.score(X_test, y_test))"
   ]
  },
  {
   "cell_type": "code",
   "execution_count": 48,
   "id": "c60a89dc",
   "metadata": {},
   "outputs": [
    {
     "name": "stderr",
     "output_type": "stream",
     "text": [
      "C:\\Users\\jgjga\\anaconda3\\envs\\tfkGPU\\lib\\site-packages\\sklearn\\utils\\deprecation.py:87: FutureWarning: Function plot_confusion_matrix is deprecated; Function `plot_confusion_matrix` is deprecated in 1.0 and will be removed in 1.2. Use one of the class methods: ConfusionMatrixDisplay.from_predictions or ConfusionMatrixDisplay.from_estimator.\n",
      "  warnings.warn(msg, category=FutureWarning)\n"
     ]
    },
    {
     "data": {
      "image/png": "[encoded data removed]",
      "text/plain": [
       "<Figure size 432x288 with 2 Axes>"
      ]
     },
     "metadata": {},
     "output_type": "display_data"
    }
   ],
   "source": [
    "# Plot with a confusion matrix\n",
    "\n",
    "plot_confusion_matrix(rf_gs_cvec, X_test, y_test, display_labels = ['gravelcycling', 'MTB'], cmap = 'copper')\n",
    "\n",
    "plt.title('Random Forest with CVEC', fontsize = 14)\n",
    "plt.xlabel('Predicted', fontsize = 12)\n",
    "plt.xticks(fontsize = 12)\n",
    "\n",
    "plt.ylabel('Actual', fontsize = 12)\n",
    "plt.yticks(fontsize = 12);\n",
    "\n",
    "plt.savefig('../data-visualizations/rf_cvec.png')"
   ]
  },
  {
   "cell_type": "code",
   "execution_count": 49,
   "id": "79ecf946",
   "metadata": {},
   "outputs": [],
   "source": [
    "rf_cvec_gs_preds = rf_gs_cvec.predict(X_test)"
   ]
  },
  {
   "cell_type": "markdown",
   "id": "1bf45392",
   "metadata": {},
   "source": [
    "### RandomForest with TF-IDF"
   ]
  },
  {
   "cell_type": "code",
   "execution_count": 50,
   "id": "d43a0da6",
   "metadata": {},
   "outputs": [],
   "source": [
    "rf_pipe_tvec = Pipeline([\n",
    "    ('tvec', TfidfVectorizer()),\n",
    "    ('model', RandomForestClassifier())\n",
    "])"
   ]
  },
  {
   "cell_type": "code",
   "execution_count": 51,
   "id": "47a5232b",
   "metadata": {},
   "outputs": [],
   "source": [
    "rf_pipe_params_tvec = {\n",
    "    'tvec__max_features': [3_000, 4_000, None],\n",
    "    'tvec__stop_words': [cust_stop_words],\n",
    "    'model__max_depth': [7, 8],\n",
    "    'model__n_estimators': [75, 100],\n",
    "    'model__min_samples_split': [2, 3],\n",
    "} "
   ]
  },
  {
   "cell_type": "code",
   "execution_count": 52,
   "id": "9642c40c",
   "metadata": {},
   "outputs": [],
   "source": [
    "# Instantiate and fit\n",
    "rf_gs_tvec = GridSearchCV(rf_pipe_tvec, param_grid= rf_pipe_params_tvec)\n",
    "\n",
    "rf_gs_tvec.fit(X_train, y_train);"
   ]
  },
  {
   "cell_type": "code",
   "execution_count": 53,
   "id": "1f37236e",
   "metadata": {},
   "outputs": [
    {
     "name": "stdout",
     "output_type": "stream",
     "text": [
      "Train:  0.9006666666666666\n",
      "Test:  0.848\n"
     ]
    }
   ],
   "source": [
    "# RandomForest with TF-IDF Model scores\n",
    "print('Train: ', rf_gs_tvec.score(X_train, y_train))\n",
    "print('Test: ', rf_gs_tvec.score(X_test, y_test))"
   ]
  },
  {
   "cell_type": "code",
   "execution_count": 54,
   "id": "1e9e0bd1",
   "metadata": {},
   "outputs": [
    {
     "name": "stderr",
     "output_type": "stream",
     "text": [
      "C:\\Users\\jgjga\\anaconda3\\envs\\tfkGPU\\lib\\site-packages\\sklearn\\utils\\deprecation.py:87: FutureWarning: Function plot_confusion_matrix is deprecated; Function `plot_confusion_matrix` is deprecated in 1.0 and will be removed in 1.2. Use one of the class methods: ConfusionMatrixDisplay.from_predictions or ConfusionMatrixDisplay.from_estimator.\n",
      "  warnings.warn(msg, category=FutureWarning)\n"
     ]
    },
    {
     "data": {
      "image/png": "[encoded data removed]",
      "text/plain": [
       "<Figure size 432x288 with 2 Axes>"
      ]
     },
     "metadata": {},
     "output_type": "display_data"
    }
   ],
   "source": [
    "# Plot the model with a confusion matrix\n",
    "\n",
    "plot_confusion_matrix(rf_gs_tvec, X_test, y_test, display_labels = ['gravelcycling', 'MTB'], cmap = 'copper')\n",
    "\n",
    "plt.title('Random Forest with TF-IDF', fontsize = 14)\n",
    "plt.xlabel('Predicted', fontsize = 12)\n",
    "plt.xticks(fontsize = 12)\n",
    "\n",
    "plt.ylabel('Actual', fontsize = 12)\n",
    "plt.yticks(fontsize = 12);\n",
    "\n",
    "plt.savefig('../data-visualizations/rf_tfidf.png')"
   ]
  },
  {
   "cell_type": "code",
   "execution_count": 55,
   "id": "a619e912",
   "metadata": {},
   "outputs": [],
   "source": [
    "rf_tvec_gs_preds = rf_gs_tvec.predict(X_test)"
   ]
  }
 ],
 "metadata": {
  "kernelspec": {
   "display_name": "Python [conda env:tfkGPU]",
   "language": "python",
   "name": "conda-env-tfkGPU-py"
  },
  "language_info": {
   "codemirror_mode": {
    "name": "ipython",
    "version": 3
   },
   "file_extension": ".py",
   "mimetype": "text/x-python",
   "name": "python",
   "nbconvert_exporter": "python",
   "pygments_lexer": "ipython3",
   "version": "3.7.11"
  }
 },
 "nbformat": 4,
 "nbformat_minor": 5
}
